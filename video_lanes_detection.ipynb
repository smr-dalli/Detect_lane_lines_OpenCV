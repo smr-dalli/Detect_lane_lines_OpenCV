{
 "cells": [
  {
   "cell_type": "code",
   "execution_count": 1,
   "id": "greatest-defendant",
   "metadata": {},
   "outputs": [],
   "source": [
    "import cv2 as cv\n",
    "import numpy as np\n",
    "import matplotlib.pyplot as plt"
   ]
  },
  {
   "cell_type": "code",
   "execution_count": 2,
   "id": "acknowledged-march",
   "metadata": {},
   "outputs": [],
   "source": [
    "VIDEO_PATH = './video/'"
   ]
  },
  {
   "cell_type": "code",
   "execution_count": 3,
   "id": "acceptable-insight",
   "metadata": {},
   "outputs": [],
   "source": [
    "def do_canny(frame):\n",
    "    \n",
    "    # Converts frame to grayscale\n",
    "    #gray = cv.cvtColor(frame, cv.COLOR_RGB2GRAY)\n",
    "    \n",
    "    # Applies a 5x5 gaussian blur\n",
    "    #blur = cv.GaussianBlur(frame, (5, 5), 0)\n",
    "    \n",
    "    # Applies Canny edge detector\n",
    "    canny = cv.Canny(frame, 50, 150)\n",
    "    \n",
    "    return canny"
   ]
  },
  {
   "cell_type": "code",
   "execution_count": 4,
   "id": "young-november",
   "metadata": {},
   "outputs": [],
   "source": [
    "def do_segment(frame):\n",
    "    height = frame.shape[0]\n",
    "    width = frame.shape[1]\n",
    "    \n",
    "    # Creates a triangular polygon for the mask defined by three (x, y) coordinates\n",
    "    polygons = np.array([\n",
    "                            [(0, height), (width//2, height//2), (width, height)]\n",
    "                        ])\n",
    "    \n",
    "    # Creates an image filled with zero\n",
    "    mask = np.zeros_like(frame)\n",
    "    \n",
    "    # Allows the mask to be filled with values of 1 and the other areas to be filled with values of 0\n",
    "    cv.fillPoly(mask, polygons, 255)\n",
    "    \n",
    "    # A bitwise and operation between the mask and frame keeps only the triangular area of the frame\n",
    "    segment = cv.bitwise_and(frame, mask)\n",
    "    \n",
    "    return segment"
   ]
  },
  {
   "cell_type": "code",
   "execution_count": 5,
   "id": "finished-dominant",
   "metadata": {},
   "outputs": [],
   "source": [
    "def calculate_coordinates(frame, parameters):\n",
    "    try:\n",
    "        slope, intercept = parameters\n",
    "    except:\n",
    "        slope, intercept = 0.001, 0\n",
    "    # Sets initial y-coordinate as height from top down (bottom of the frame)\n",
    "    \n",
    "    y1 = frame.shape[0]\n",
    "    \n",
    "    # Sets final y-coordinate as 200 above the bottom of the frame\n",
    "    y2 = int(y1 - 200)\n",
    "    \n",
    "    # Sets initial x-coordinate as (y1 - b) / m since y1 = mx1 + b\n",
    "    x1 = int((y1 - intercept) / slope)\n",
    "    \n",
    "    # Sets final x-coordinate as (y2 - b) / m since y2 = mx2 + b\n",
    "    x2 = int((y2 - intercept) / slope)\n",
    "    \n",
    "    return np.array([x1, y1, x2, y2])"
   ]
  },
  {
   "cell_type": "code",
   "execution_count": 6,
   "id": "structural-appendix",
   "metadata": {},
   "outputs": [],
   "source": [
    "def calculate_lines(frame, lines):\n",
    "    \n",
    "    # Empty arrays to store the coordinates of the left and right lines\n",
    "    left = []\n",
    "    right = []\n",
    "    \n",
    "    # Loops through every detected line\n",
    "    for line in lines:\n",
    "        \n",
    "        # Reshapes line from 2D array to 1D array\n",
    "        x1, y1, x2, y2 = line.reshape(4)\n",
    "        # Fits a linear polynomial to the x and y coordinates and returns a vector of coefficients which describe the slope and y-intercept\n",
    "        parameters = np.polyfit((x1, x2), (y1, y2), 1)\n",
    "        slope = parameters[0]\n",
    "        y_intercept = parameters[1]\n",
    "        \n",
    "        # If slope is negative, the line is to the left of the lane, and otherwise, the line is to the right of the lane\n",
    "        if slope < 0:\n",
    "            left.append((slope, y_intercept))\n",
    "        else:\n",
    "            right.append((slope, y_intercept))\n",
    "    \n",
    "    # Averages out all the values for left and right into a single slope and y-intercept value for each line\n",
    "    left_avg = np.average(left, axis = 0)\n",
    "    right_avg = np.average(right, axis = 0)\n",
    "    \n",
    "    # Calculates the x1, y1, x2, y2 coordinates for the left and right lines\n",
    "    left_line = calculate_coordinates(frame, left_avg)\n",
    "    right_line = calculate_coordinates(frame, right_avg)\n",
    "    \n",
    "    return np.array([left_line, right_line])"
   ]
  },
  {
   "cell_type": "code",
   "execution_count": 7,
   "id": "seeing-opposition",
   "metadata": {},
   "outputs": [],
   "source": [
    "def visualize_lines(frame, lines):\n",
    "    \n",
    "    # Creates an image filled with zero intensities with the same dimensions as the frame\n",
    "    lines_visualize = np.zeros_like(frame)\n",
    "    \n",
    "    # Checks if any lines are detected\n",
    "    if lines is not None:\n",
    "        for x1, y1, x2, y2 in lines:\n",
    "    # Draws lines between two coordinates with green color and 5 thickness\n",
    "            cv.line(lines_visualize, (x1, y1), (x2, y2), (0, 255, 0), 5)\n",
    "    \n",
    "    return lines_visualize"
   ]
  },
  {
   "cell_type": "code",
   "execution_count": 8,
   "id": "wrapped-engineer",
   "metadata": {},
   "outputs": [
    {
     "ename": "AttributeError",
     "evalue": "'NoneType' object has no attribute 'shape'",
     "output_type": "error",
     "traceback": [
      "\u001b[0;31m---------------------------------------------------------------------------\u001b[0m",
      "\u001b[0;31mAttributeError\u001b[0m                            Traceback (most recent call last)",
      "\u001b[0;32m<ipython-input-8-2dc214fc0eeb>\u001b[0m in \u001b[0;36m<module>\u001b[0;34m\u001b[0m\n\u001b[1;32m      6\u001b[0m     \u001b[0mcanny\u001b[0m \u001b[0;34m=\u001b[0m \u001b[0mdo_canny\u001b[0m\u001b[0;34m(\u001b[0m\u001b[0mframe\u001b[0m\u001b[0;34m)\u001b[0m\u001b[0;34m\u001b[0m\u001b[0;34m\u001b[0m\u001b[0m\n\u001b[1;32m      7\u001b[0m \u001b[0;34m\u001b[0m\u001b[0m\n\u001b[0;32m----> 8\u001b[0;31m     \u001b[0msegment\u001b[0m \u001b[0;34m=\u001b[0m \u001b[0mdo_segment\u001b[0m\u001b[0;34m(\u001b[0m\u001b[0mcanny\u001b[0m\u001b[0;34m)\u001b[0m\u001b[0;34m\u001b[0m\u001b[0;34m\u001b[0m\u001b[0m\n\u001b[0m\u001b[1;32m      9\u001b[0m \u001b[0;34m\u001b[0m\u001b[0m\n\u001b[1;32m     10\u001b[0m     \u001b[0mhough\u001b[0m \u001b[0;34m=\u001b[0m \u001b[0mcv\u001b[0m\u001b[0;34m.\u001b[0m\u001b[0mHoughLinesP\u001b[0m\u001b[0;34m(\u001b[0m\u001b[0msegment\u001b[0m\u001b[0;34m,\u001b[0m \u001b[0;36m2\u001b[0m\u001b[0;34m,\u001b[0m \u001b[0mnp\u001b[0m\u001b[0;34m.\u001b[0m\u001b[0mpi\u001b[0m \u001b[0;34m/\u001b[0m \u001b[0;36m180\u001b[0m\u001b[0;34m,\u001b[0m \u001b[0;36m100\u001b[0m\u001b[0;34m,\u001b[0m \u001b[0mnp\u001b[0m\u001b[0;34m.\u001b[0m\u001b[0marray\u001b[0m\u001b[0;34m(\u001b[0m\u001b[0;34m[\u001b[0m\u001b[0;34m]\u001b[0m\u001b[0;34m)\u001b[0m\u001b[0;34m,\u001b[0m \u001b[0mminLineLength\u001b[0m \u001b[0;34m=\u001b[0m \u001b[0;36m100\u001b[0m\u001b[0;34m,\u001b[0m \u001b[0mmaxLineGap\u001b[0m \u001b[0;34m=\u001b[0m \u001b[0;36m50\u001b[0m\u001b[0;34m)\u001b[0m\u001b[0;34m\u001b[0m\u001b[0;34m\u001b[0m\u001b[0m\n",
      "\u001b[0;32m<ipython-input-4-a73c65100800>\u001b[0m in \u001b[0;36mdo_segment\u001b[0;34m(frame)\u001b[0m\n\u001b[1;32m      1\u001b[0m \u001b[0;32mdef\u001b[0m \u001b[0mdo_segment\u001b[0m\u001b[0;34m(\u001b[0m\u001b[0mframe\u001b[0m\u001b[0;34m)\u001b[0m\u001b[0;34m:\u001b[0m\u001b[0;34m\u001b[0m\u001b[0;34m\u001b[0m\u001b[0m\n\u001b[0;32m----> 2\u001b[0;31m     \u001b[0mheight\u001b[0m \u001b[0;34m=\u001b[0m \u001b[0mframe\u001b[0m\u001b[0;34m.\u001b[0m\u001b[0mshape\u001b[0m\u001b[0;34m[\u001b[0m\u001b[0;36m0\u001b[0m\u001b[0;34m]\u001b[0m\u001b[0;34m\u001b[0m\u001b[0;34m\u001b[0m\u001b[0m\n\u001b[0m\u001b[1;32m      3\u001b[0m     \u001b[0mwidth\u001b[0m \u001b[0;34m=\u001b[0m \u001b[0mframe\u001b[0m\u001b[0;34m.\u001b[0m\u001b[0mshape\u001b[0m\u001b[0;34m[\u001b[0m\u001b[0;36m1\u001b[0m\u001b[0;34m]\u001b[0m\u001b[0;34m\u001b[0m\u001b[0;34m\u001b[0m\u001b[0m\n\u001b[1;32m      4\u001b[0m \u001b[0;34m\u001b[0m\u001b[0m\n\u001b[1;32m      5\u001b[0m     \u001b[0;31m# Creates a triangular polygon for the mask defined by three (x, y) coordinates\u001b[0m\u001b[0;34m\u001b[0m\u001b[0;34m\u001b[0m\u001b[0;34m\u001b[0m\u001b[0m\n",
      "\u001b[0;31mAttributeError\u001b[0m: 'NoneType' object has no attribute 'shape'"
     ]
    }
   ],
   "source": [
    "cap = cv.VideoCapture(VIDEO_PATH + \"solidWhiteRight.mp4\")\n",
    "while (cap.isOpened()):\n",
    "    \n",
    "    ret, frame = cap.read()\n",
    "    \n",
    "    canny = do_canny(frame)\n",
    "    \n",
    "    segment = do_segment(canny)\n",
    "    \n",
    "    hough = cv.HoughLinesP(segment, 2, np.pi / 180, 100, np.array([]), minLineLength = 100, maxLineGap = 50)\n",
    "    \n",
    "    lines = calculate_lines(frame, hough)\n",
    "    \n",
    "    lines_visualize = visualize_lines(frame, lines)\n",
    "    \n",
    "    output = cv.addWeighted(frame, 0.9, lines_visualize, 1, 1)\n",
    "    \n",
    "    cv.imshow(\"output\", output)\n",
    "    \n",
    "    if cv.waitKey(10) & 0xFF == ord('q'):\n",
    "        break\n",
    "# The following frees up resources and closes all windows\n",
    "cap.release()\n",
    "cv.destroyAllWindows()"
   ]
  }
 ],
 "metadata": {
  "kernelspec": {
   "display_name": "Python 3",
   "language": "python",
   "name": "python3"
  },
  "language_info": {
   "codemirror_mode": {
    "name": "ipython",
    "version": 3
   },
   "file_extension": ".py",
   "mimetype": "text/x-python",
   "name": "python",
   "nbconvert_exporter": "python",
   "pygments_lexer": "ipython3",
   "version": "3.8.8"
  }
 },
 "nbformat": 4,
 "nbformat_minor": 5
}

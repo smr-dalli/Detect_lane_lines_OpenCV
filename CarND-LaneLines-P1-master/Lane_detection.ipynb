{
 "cells": [
  {
   "cell_type": "code",
   "execution_count": 2,
   "id": "dominant-ladder",
   "metadata": {},
   "outputs": [],
   "source": [
    "import cv2\n",
    "import numpy as np\n",
    "import matplotlib.pyplot as plt\n",
    "%matplotlib inline"
   ]
  },
  {
   "cell_type": "code",
   "execution_count": 3,
   "id": "skilled-seminar",
   "metadata": {},
   "outputs": [],
   "source": [
    "def imshow(images):\n",
    "    plt.figure(figsize = (10,10))\n",
    "    plt.imshow(images)"
   ]
  },
  {
   "cell_type": "code",
   "execution_count": 20,
   "id": "chief-school",
   "metadata": {
    "scrolled": true
   },
   "outputs": [
    {
     "data": {
      "image/png": "[encoded data removed]",
      "text/plain": [
       "<Figure size 432x288 with 1 Axes>"
      ]
     },
     "metadata": {
      "needs_background": "light"
     },
     "output_type": "display_data"
    }
   ],
   "source": [
    "img = cv2.imread('test_images/solidWhiteCurve.jpg')\n",
    "image = img.copy()\n",
    "blur_img = cv2.GaussianBlur(img,(5,5),0)\n",
    "gray_img = cv2.cvtColor(blur_img,cv2.COLOR_BGR2GRAY)\n",
    "height = gray_img.shape[0]\n",
    "width = gray_img.shape[1]\n",
    "\n",
    "roi_verices = [(100, height),(width/2-100, height/1.5),(width/2+100, height/1.5),(width, height)]\n",
    "mask = np.zeros_like(image)\n",
    "cv2.fillPoly(mask,np.array([roi_verices],np.int32),255)\n",
    "cropped_mask = cv2.bitwise_and(mask,image)\n",
    "plt.imshow(cropped_mask)\n",
    "\n",
    "canny_img = cv2.Canny(cropped_mask,200,400)\n",
    "#plt.imshow(canny_img)\n",
    "#kernel  = np.ones((3,3))\n",
    "#dilate_img = cv2.dilate(canny_img,kernel)\n",
    "\n",
    "lines = cv2.HoughLinesP(canny_img,rho = 6,\n",
    "                       theta = np.pi / 60,\n",
    "                       threshold = 50,\n",
    "                       lines = np.array([]),\n",
    "                       minLineLength = 1,\n",
    "                       maxLineGap = 25)\n",
    "line_image = np.zeros((image.shape[0], image.shape[1], image.shape[2]), dtype=np.uint8)\n",
    "\n",
    "for line in lines:\n",
    "    for x1,y1,x2,y2 in line:\n",
    "        cv2.line(line_image,(x1,y1),(x2,y2),(0,255,0),5)\n",
    "img_copy = cv2.addWeighted(image, 0.8,line_image, 1, 0)\n",
    "        \n",
    "#imshow(img_copy)\n",
    "\n",
    "#plt.imshow(dilate_img,cmap = 'gray')"
   ]
  },
  {
   "cell_type": "code",
   "execution_count": 6,
   "id": "numeric-premium",
   "metadata": {},
   "outputs": [],
   "source": [
    "video = cv2.VideoCapture('test_videos/solidYellowLeft.mp4')\n",
    "while(video.isOpened()):\n",
    "    #img = cv2.imread('test_images/solidWhiteCurve.jpg')\n",
    "    _,frame = video.read()\n",
    "    image = frame.copy()\n",
    "    blur_img = cv2.GaussianBlur(image,(5,5),0)\n",
    "    gray_img = cv2.cvtColor(blur_img,cv2.COLOR_BGR2GRAY)\n",
    "    height = gray_img.shape[0]\n",
    "    width = gray_img.shape[1]\n",
    "\n",
    "    roi_verices = [(170, height),(width/2-100, height/1.5),(width/2+100, height/1.5),(width - 60, height)]\n",
    "    mask = np.zeros_like(gray_img)\n",
    "    cv2.fillPoly(mask,np.array([roi_verices],np.int32),255)\n",
    "    cropped_mask = cv2.bitwise_and(gray_img,mask)\n",
    "\n",
    "    canny_img = cv2.Canny(cropped_mask,500,630)\n",
    "#     kernel  = np.ones((3,3))\n",
    "#     dilate_img = cv2.dilate(canny_img,kernel)\n",
    "\n",
    "    lines = cv2.HoughLinesP(canny_img,rho = 6,\n",
    "                           theta = np.pi / 60,\n",
    "                           threshold = 50,\n",
    "                           lines = np.array([]),\n",
    "                           minLineLength = 1,\n",
    "                           maxLineGap = 25)\n",
    "\n",
    "    for line in lines:\n",
    "        for x1,y1,x2,y2 in line:\n",
    "            cv2.line(image,(x1,y1),(x2,y2),(0,255,0),4)\n",
    "    cv2.imshow('test',image)\n",
    "    key = cv2.waitKey(10)\n",
    "    if key == ord('q') or key == 27:\n",
    "        break\n",
    "video.release()\n",
    "cv2.destroyAllWindows()\n",
    "\n",
    "#plt.imshow(dilate_img,cmap = 'gray')"
   ]
  }
 ],
 "metadata": {
  "kernelspec": {
   "display_name": "Python 3",
   "language": "python",
   "name": "python3"
  },
  "language_info": {
   "codemirror_mode": {
    "name": "ipython",
    "version": 3
   },
   "file_extension": ".py",
   "mimetype": "text/x-python",
   "name": "python",
   "nbconvert_exporter": "python",
   "pygments_lexer": "ipython3",
   "version": "3.8.8"
  }
 },
 "nbformat": 4,
 "nbformat_minor": 5
}
